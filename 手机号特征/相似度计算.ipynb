{
 "cells": [
  {
   "cell_type": "code",
   "execution_count": 1,
   "metadata": {},
   "outputs": [],
   "source": [
    "import pandas as pd\n",
    "import numpy as np\n",
    "import pymysql\n",
    "import time\n",
    "import datetime"
   ]
  },
  {
   "cell_type": "code",
   "execution_count": 2,
   "metadata": {},
   "outputs": [],
   "source": [
    "def sql_table2():\n",
    "    conn = pymysql.connect(\n",
    "        host=\"\n",
    "        user=\"\",\n",
    "        password=\"\",\n",
    "        db=\"dompet_second\",\n",
    "        charset=\"utf8\")\n",
    "\n",
    "    sql=\"\"\"\n",
    "SELECT\n",
    "*\n",
    "from\n",
    "t_loan_order as a \n",
    "LEFT JOIN \n",
    "t_app_user_connections as b on a.app_user_id=b.app_user_id\n",
    "WHERE\n",
    "a.request_date>=\"2021-03-01\"\n",
    "and\n",
    "a.request_date<=\"2021-04-20\"\n",
    "and\n",
    "a.is_new=1\n",
    "and\n",
    "a.loan_order_status=5\n",
    "   \"\"\"              \n",
    "    df=pd.read_sql(sql,conn)\n",
    "    conn.close()\n",
    "    return df"
   ]
  },
  {
   "cell_type": "code",
   "execution_count": 3,
   "metadata": {},
   "outputs": [],
   "source": [
    "def sql_table():\n",
    "    conn = pymysql.connect(\n",
    "        host=\"\n",
    "        user=\",\n",
    "        password=\",\n",
    "        db=\"dompet\",\n",
    "        charset=\"utf8\")\n",
    "\n",
    "    sql=\"\"\"\n",
    "SELECT\n",
    "a.*,b.*\n",
    "from\n",
    "t_loan_order as a \n",
    "LEFT JOIN \n",
    "t_app_user_connections as b on a.app_user_id=b.app_user_id\n",
    "WHERE\n",
    "a.request_date>=\"2021-03-01\"\n",
    "and\n",
    "a.request_date<=\"2021-04-20\"\n",
    "and\n",
    "a.is_new=1\n",
    "and\n",
    "a.loan_order_status=5\n",
    "   \"\"\"              \n",
    "    df=pd.read_sql(sql,conn)\n",
    "    conn.close()\n",
    "    return df"
   ]
  },
  {
   "cell_type": "code",
   "execution_count": 4,
   "metadata": {},
   "outputs": [],
   "source": [
    "def sql_table3():\n",
    "    conn = pymysql.connect(\n",
    "        host=\"\n",
    "        user=\"\",\n",
    "        password=\"\",\n",
    "        db=\"api_loansuper\",\n",
    "        charset=\"utf8\")\n",
    "\n",
    "    sql=\"\"\"\n",
    "SELECT\n",
    "a.*,b.*\n",
    "from\n",
    "t_loan_order as a \n",
    "LEFT JOIN \n",
    "t_app_user_connections as b on a.app_user_id=b.app_user_id\n",
    "WHERE\n",
    "a.request_date>=\"2021-03-01\"\n",
    "and\n",
    "a.request_date<=\"2021-04-20\"\n",
    "and\n",
    "a.is_new=1\n",
    "and\n",
    "a.loan_order_status=5\n",
    "   \"\"\"              \n",
    "    df=pd.read_sql(sql,conn)\n",
    "    conn.close()\n",
    "    return df"
   ]
  },
  {
   "cell_type": "code",
   "execution_count": 5,
   "metadata": {},
   "outputs": [
    {
     "name": "stderr",
     "output_type": "stream",
     "text": [
      "/usr/local/lib64/python3.6/site-packages/pandas/core/frame.py:7138: FutureWarning: Sorting because non-concatenation axis is not aligned. A future version\n",
      "of pandas will change to not sort by default.\n",
      "\n",
      "To accept the future behavior, pass 'sort=False'.\n",
      "\n",
      "To retain the current behavior and silence the warning, pass 'sort=True'.\n",
      "\n",
      "  sort=sort,\n"
     ]
    }
   ],
   "source": [
    "data2=sql_table2()\n",
    "\n",
    "data3=sql_table3()\n",
    "\n",
    "data1=sql_table()\n",
    "\n",
    "data1=data1.iloc[:,:-1]\n",
    "\n",
    "data2['loan_id']=data2['loan_id'].apply(lambda x :str(x))+'dompet_second'\n",
    "\n",
    "data1['loan_id']=data1['loan_id'].apply(lambda x :str(x))+'dompet'\n",
    "\n",
    "data3['loan_id']=data3['loan_id'].apply(lambda x :str(x))+'api_loansuper'\n",
    "\n",
    "data1=data1.T.drop_duplicates().T\n",
    "\n",
    "data2=data2.T.drop_duplicates().T\n",
    "\n",
    "data3=data3.T.drop_duplicates().T\n",
    "\n",
    "data=data1.append(data2).append(data3)"
   ]
  },
  {
   "cell_type": "code",
   "execution_count": 7,
   "metadata": {},
   "outputs": [],
   "source": [
    "data1=data.drop_duplicates(subset='loan_id', keep='last')"
   ]
  },
  {
   "cell_type": "code",
   "execution_count": 9,
   "metadata": {},
   "outputs": [],
   "source": [
    "data=data1.T.drop_duplicates().T"
   ]
  },
  {
   "cell_type": "code",
   "execution_count": 14,
   "metadata": {},
   "outputs": [
    {
     "data": {
      "text/plain": [
       "'598415dompet'"
      ]
     },
     "execution_count": 14,
     "metadata": {},
     "output_type": "execute_result"
    }
   ],
   "source": [
    "str(598415)+'dompet'"
   ]
  },
  {
   "cell_type": "code",
   "execution_count": 55,
   "metadata": {},
   "outputs": [
    {
     "data": {
      "text/plain": [
       "1433     579573dompet_second\n",
       "1434     579575dompet_second\n",
       "1435     579577dompet_second\n",
       "1436     579583dompet_second\n",
       "1437     579584dompet_second\n",
       "                ...         \n",
       "47030    837003api_loansuper\n",
       "47031    837011api_loansuper\n",
       "47032    837012api_loansuper\n",
       "47037    837021api_loansuper\n",
       "47039    837022api_loansuper\n",
       "Name: loan_id, Length: 22140, dtype: object"
      ]
     },
     "execution_count": 55,
     "metadata": {},
     "output_type": "execute_result"
    }
   ],
   "source": [
    "data['loan_id'][15000:]"
   ]
  },
  {
   "cell_type": "code",
   "execution_count": 24,
   "metadata": {},
   "outputs": [],
   "source": [
    "s1=data[data['loan_id']==str(598415)+'dompet_second'].connect_json.values[0]"
   ]
  },
  {
   "cell_type": "code",
   "execution_count": 25,
   "metadata": {},
   "outputs": [],
   "source": [
    "s2=data[data['loan_id']==str(600354)+'dompet_second'].connect_json.values[0]"
   ]
  },
  {
   "cell_type": "code",
   "execution_count": 47,
   "metadata": {},
   "outputs": [],
   "source": [
    "s3=data[data['loan_id']==str(613614)+'dompet_second'].connect_json.values[0]"
   ]
  },
  {
   "cell_type": "code",
   "execution_count": 69,
   "metadata": {},
   "outputs": [],
   "source": [
    "s4=data[data['loan_id']==str(577847)+'dompet_second'].connect_json.values[0]"
   ]
  },
  {
   "cell_type": "code",
   "execution_count": 22,
   "metadata": {},
   "outputs": [],
   "source": [
    "import difflib"
   ]
  },
  {
   "cell_type": "code",
   "execution_count": 27,
   "metadata": {},
   "outputs": [],
   "source": [
    "seq = difflib.SequenceMatcher(None, s1,s2)\n",
    "ratio = seq.ratio()"
   ]
  },
  {
   "cell_type": "code",
   "execution_count": 28,
   "metadata": {},
   "outputs": [
    {
     "data": {
      "text/plain": [
       "0.019762845849802372"
      ]
     },
     "execution_count": 28,
     "metadata": {},
     "output_type": "execute_result"
    }
   ],
   "source": [
    "ratio"
   ]
  },
  {
   "cell_type": "code",
   "execution_count": 37,
   "metadata": {},
   "outputs": [],
   "source": [
    "st1=set(pd.DataFrame(eval(s1))['phone'])"
   ]
  },
  {
   "cell_type": "code",
   "execution_count": 39,
   "metadata": {},
   "outputs": [],
   "source": [
    "st2=set(pd.DataFrame(eval(s2))['phone'])"
   ]
  },
  {
   "cell_type": "code",
   "execution_count": 61,
   "metadata": {},
   "outputs": [],
   "source": [
    "st3=set(pd.DataFrame(eval(s3))['phone'])"
   ]
  },
  {
   "cell_type": "code",
   "execution_count": 70,
   "metadata": {},
   "outputs": [],
   "source": [
    "st4=set(pd.DataFrame(eval(s4))['phone'])"
   ]
  },
  {
   "cell_type": "code",
   "execution_count": 43,
   "metadata": {},
   "outputs": [
    {
     "data": {
      "text/plain": [
       "540"
      ]
     },
     "execution_count": 43,
     "metadata": {},
     "output_type": "execute_result"
    }
   ],
   "source": [
    "len(st2)"
   ]
  },
  {
   "cell_type": "code",
   "execution_count": 51,
   "metadata": {},
   "outputs": [
    {
     "data": {
      "text/plain": [
       "{'+62111',\n",
       " '+621630003233734',\n",
       " '+6281213438680',\n",
       " '+6281284106145',\n",
       " '+6281286252630',\n",
       " '+6281297701737',\n",
       " '+6281298029405',\n",
       " '+6281298029624',\n",
       " '+6281310584047',\n",
       " '+6281311322170',\n",
       " '+6281314579845',\n",
       " '+6281316348979',\n",
       " '+6281318702381',\n",
       " '+6281319328199',\n",
       " '+6281362417364',\n",
       " '+6281381030704',\n",
       " '+6281381340031',\n",
       " '+6281383544425',\n",
       " '+6281386356560',\n",
       " '+6281387305471',\n",
       " '+6281398899124',\n",
       " '+6281807527525',\n",
       " '+6281808532941',\n",
       " '+6281938237159',\n",
       " '+6282113934676',\n",
       " '+6282121834332',\n",
       " '+6282147683514',\n",
       " '+6282210736269',\n",
       " '+6282246000206',\n",
       " '+6282246749772',\n",
       " '+6282297107235',\n",
       " '+6282310935656',\n",
       " '+6283807005257',\n",
       " '+6283812514624',\n",
       " '+6283812533294',\n",
       " '+6283812767389',\n",
       " '+6283812883828',\n",
       " '+6283813806797',\n",
       " '+6283872066744',\n",
       " '+6283891988948',\n",
       " '+6283897469509',\n",
       " '+6285210073157',\n",
       " '+6285210394869',\n",
       " '+6285212162973',\n",
       " '+6285213351925',\n",
       " '+6285216106929',\n",
       " '+6285217711796',\n",
       " '+6285218375589',\n",
       " '+6285219571642',\n",
       " '+6285280258179',\n",
       " '+6285280452342',\n",
       " '+6285280480495',\n",
       " '+6285281906261',\n",
       " '+6285282745452',\n",
       " '+6285310697742',\n",
       " '+6285311270762',\n",
       " '+6285716408210',\n",
       " '+6285719947064',\n",
       " '+6285921611109',\n",
       " '+6285946086060',\n",
       " '+6287710578114',\n",
       " '+6287764604950',\n",
       " '+6287772221165',\n",
       " '+6287773015031',\n",
       " '+6287774060500',\n",
       " '+6287780602786',\n",
       " '+6287882225673',\n",
       " '+6287889263150',\n",
       " '+6289514980628',\n",
       " '+6289643737557',\n",
       " '+6289670094321',\n",
       " '+6289678708377',\n",
       " '081210224290',\n",
       " '081218150928',\n",
       " '081219340625',\n",
       " '081295459931',\n",
       " '081299020201',\n",
       " '081314558511',\n",
       " '081316383423',\n",
       " '081316759785',\n",
       " '081317534634',\n",
       " '081380099177',\n",
       " '081380453907',\n",
       " '081381662566',\n",
       " '081382132556',\n",
       " '081382496676',\n",
       " '081382744091',\n",
       " '081383418127',\n",
       " '081384941788',\n",
       " '081510693368',\n",
       " '081774957445',\n",
       " '081806066113',\n",
       " '081906265559',\n",
       " '081908258655',\n",
       " '081931523338',\n",
       " '082112621826',\n",
       " '082114418668',\n",
       " '082151028313',\n",
       " '082210269076',\n",
       " '082312434372',\n",
       " '082319633180',\n",
       " '083137545566',\n",
       " '083137545569',\n",
       " '083806759073',\n",
       " '083812192909',\n",
       " '083813772500',\n",
       " '083818948725',\n",
       " '083841486202',\n",
       " '083871933311',\n",
       " '083890637210',\n",
       " '083890825379',\n",
       " '085210794075',\n",
       " '085211155188',\n",
       " '085211550401',\n",
       " '085212271206',\n",
       " '085212551169',\n",
       " '085213815543',\n",
       " '085213979345',\n",
       " '085213983257',\n",
       " '085216182263',\n",
       " '085216912097',\n",
       " '085217765145',\n",
       " '085217953344',\n",
       " '085218692190',\n",
       " '085219107944',\n",
       " '085219984089',\n",
       " '085273436415',\n",
       " '085279908697',\n",
       " '085280806221',\n",
       " '085280888708',\n",
       " '085311852710',\n",
       " '085311990258',\n",
       " '085317663850',\n",
       " '085368549772',\n",
       " '085714619169',\n",
       " '085772051801',\n",
       " '085779337769',\n",
       " '085779981244',\n",
       " '085782502990',\n",
       " '085817849179',\n",
       " '085880482154',\n",
       " '085887577699',\n",
       " '085893364483',\n",
       " '085926961896',\n",
       " '085929926792',\n",
       " '085945815450',\n",
       " '085959228566',\n",
       " '087771290042',\n",
       " '087771352658',\n",
       " '087771676610',\n",
       " '087773780907',\n",
       " '087773996688',\n",
       " '0877890303655',\n",
       " '087808742055',\n",
       " '087809530001',\n",
       " '087871129545',\n",
       " '087871356102',\n",
       " '087873018669',\n",
       " '087879524617',\n",
       " '087882382103',\n",
       " '087882384694',\n",
       " '087884966227',\n",
       " '088809076188',\n",
       " '0895346350061',\n",
       " '0895400316847',\n",
       " '0895610459259',\n",
       " '089643297587',\n",
       " '08999654632',\n",
       " '119601000603533',\n",
       " '155',\n",
       " '3604152010090001',\n",
       " '4920795922',\n",
       " '539611039144'}"
      ]
     },
     "execution_count": 51,
     "metadata": {},
     "output_type": "execute_result"
    }
   ],
   "source": [
    "st1"
   ]
  },
  {
   "cell_type": "code",
   "execution_count": 44,
   "metadata": {
    "scrolled": true
   },
   "outputs": [
    {
     "data": {
      "text/plain": [
       "173"
      ]
     },
     "execution_count": 44,
     "metadata": {},
     "output_type": "execute_result"
    }
   ],
   "source": [
    "len(st1)"
   ]
  },
  {
   "cell_type": "code",
   "execution_count": 49,
   "metadata": {},
   "outputs": [
    {
     "data": {
      "text/plain": [
       "351"
      ]
     },
     "execution_count": 49,
     "metadata": {},
     "output_type": "execute_result"
    }
   ],
   "source": [
    "len(st3)"
   ]
  },
  {
   "cell_type": "code",
   "execution_count": 71,
   "metadata": {},
   "outputs": [
    {
     "data": {
      "text/plain": [
       "1"
      ]
     },
     "execution_count": 71,
     "metadata": {},
     "output_type": "execute_result"
    }
   ],
   "source": [
    "len(st1 &st4)"
   ]
  },
  {
   "cell_type": "code",
   "execution_count": 68,
   "metadata": {},
   "outputs": [
    {
     "data": {
      "text/plain": [
       "1149"
      ]
     },
     "execution_count": 68,
     "metadata": {},
     "output_type": "execute_result"
    }
   ],
   "source": [
    "len(st4)"
   ]
  },
  {
   "cell_type": "code",
   "execution_count": null,
   "metadata": {},
   "outputs": [],
   "source": []
  }
 ],
 "metadata": {
  "kernelspec": {
   "display_name": "Python 3",
   "language": "python",
   "name": "python3"
  },
  "language_info": {
   "codemirror_mode": {
    "name": "ipython",
    "version": 3
   },
   "file_extension": ".py",
   "mimetype": "text/x-python",
   "name": "python",
   "nbconvert_exporter": "python",
   "pygments_lexer": "ipython3",
   "version": "3.8.8"
  },
  "varInspector": {
   "cols": {
    "lenName": 16,
    "lenType": 16,
    "lenVar": 40
   },
   "kernels_config": {
    "python": {
     "delete_cmd_postfix": "",
     "delete_cmd_prefix": "del ",
     "library": "var_list.py",
     "varRefreshCmd": "print(var_dic_list())"
    },
    "r": {
     "delete_cmd_postfix": ") ",
     "delete_cmd_prefix": "rm(",
     "library": "var_list.r",
     "varRefreshCmd": "cat(var_dic_list()) "
    }
   },
   "types_to_exclude": [
    "module",
    "function",
    "builtin_function_or_method",
    "instance",
    "_Feature"
   ],
   "window_display": false
  }
 },
 "nbformat": 4,
 "nbformat_minor": 4
}
