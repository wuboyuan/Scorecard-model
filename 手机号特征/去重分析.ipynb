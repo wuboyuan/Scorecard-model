{
 "cells": [
  {
   "cell_type": "code",
   "execution_count": 3,
   "metadata": {},
   "outputs": [],
   "source": [
    "import pandas as pd\n",
    "import numpy as np\n",
    "import pymysql\n",
    "import time\n",
    "import datetime"
   ]
  },
  {
   "cell_type": "code",
   "execution_count": 4,
   "metadata": {},
   "outputs": [],
   "source": [
    "import tqdm\n",
    "\n",
    "import re\n",
    "\n",
    "import joblib"
   ]
  },
  {
   "cell_type": "code",
   "execution_count": 116,
   "metadata": {},
   "outputs": [],
   "source": [
    "def sql_table2():\n",
    "    conn = pymysql.connect(\n",
    "        host=\",\n",
    "        user=\"\",\n",
    "        password=\"\",\n",
    "        db=\"dompet_second\",\n",
    "        charset=\"utf8\")\n",
    "\n",
    "    sql=\"\"\"\n",
    "SELECT\n",
    "*\n",
    "from\n",
    "t_loan_order as a \n",
    "LEFT JOIN \n",
    "t_app_user_connections as b on a.app_user_id=b.app_user_id\n",
    "WHERE\n",
    "a.request_date>=\"2021-04-15\"\n",
    "and\n",
    "a.request_date<=\"2021-04-22\"\n",
    "and\n",
    "a.is_new=1\n",
    "   \"\"\"              \n",
    "    df=pd.read_sql(sql,conn)\n",
    "    conn.close()\n",
    "    return df"
   ]
  },
  {
   "cell_type": "code",
   "execution_count": 117,
   "metadata": {},
   "outputs": [],
   "source": [
    "def sql_table():\n",
    "    conn = pymysql.connect(\n",
    "        host=\"\n",
    "        user=\"\",\n",
    "        password=\"\",\n",
    "        db=\"dompet\",\n",
    "        charset=\"utf8\")\n",
    "\n",
    "    sql=\"\"\"\n",
    "SELECT\n",
    "a.*,b.*\n",
    "from\n",
    "t_loan_order as a \n",
    "LEFT JOIN \n",
    "t_app_user_connections as b on a.app_user_id=b.app_user_id\n",
    "WHERE\n",
    "a.request_date>=\"2021-04-15\"\n",
    "and\n",
    "a.request_date<=\"2021-04-22\"\n",
    "and\n",
    "a.is_new=1\n",
    "   \"\"\"              \n",
    "    df=pd.read_sql(sql,conn)\n",
    "    conn.close()\n",
    "    return df"
   ]
  },
  {
   "cell_type": "code",
   "execution_count": 118,
   "metadata": {},
   "outputs": [],
   "source": [
    "data2=sql_table2()\n",
    "data1=sql_table()\n",
    "data1=data1.iloc[:,:-1]\n",
    "data2['loan_id']=data2['loan_id'].apply(lambda x :str(x))+'dompet_second'\n",
    "data1['loan_id']=data1['loan_id'].apply(lambda x :str(x))+'dompet'\n",
    "data1=data1.T.drop_duplicates().T\n",
    "data2=data2.T.drop_duplicates().T\n",
    "data=data1.append(data2)"
   ]
  },
  {
   "cell_type": "code",
   "execution_count": 119,
   "metadata": {},
   "outputs": [],
   "source": [
    "data=data.drop_duplicates(subset='loan_id', keep='first')"
   ]
  },
  {
   "cell_type": "code",
   "execution_count": 120,
   "metadata": {},
   "outputs": [],
   "source": [
    "data.index=data['loan_id']"
   ]
  },
  {
   "cell_type": "code",
   "execution_count": 125,
   "metadata": {},
   "outputs": [
    {
     "name": "stderr",
     "output_type": "stream",
     "text": [
      "100%|██████████| 5088/5088 [07:55<00:00, 10.70it/s]\n"
     ]
    }
   ],
   "source": [
    "ind=0\n",
    "for i in tqdm.tqdm(data.index[14242:]):\n",
    "    data_ph=pd.DataFrame(eval(data.connect_json.loc[i]))\n",
    "#     data_ph['phone_1']=pd.DataFrame(eval(data.connect_json.loc[i]))['phone'].apply(lambda x : 1 if re.compile(r'((^\\+628)|(^08)|(^628)|(^\\+08))+([0-9]{8,11})$').match(x) else 0)\n",
    "    data_ph['loan_id']=data.loan_id.loc[i]\n",
    "    data_ph['tar']=1-data.repay_order_status.loc[i]\n",
    "    if ind==0:\n",
    "        data_phone_m_1=data_ph\n",
    "        ind=1\n",
    "    else:\n",
    "        data_phone_m_1=data_phone_m_1.append(data_ph)"
   ]
  },
  {
   "cell_type": "code",
   "execution_count": 126,
   "metadata": {},
   "outputs": [],
   "source": [
    "data_phone_m=data_phone_m.append(data_phone_m_1)"
   ]
  },
  {
   "cell_type": "code",
   "execution_count": null,
   "metadata": {},
   "outputs": [],
   "source": []
  },
  {
   "cell_type": "code",
   "execution_count": 127,
   "metadata": {},
   "outputs": [],
   "source": [
    "data_phone1=joblib.load('PART_1.pkl')\n",
    "data_phone2=joblib.load('PART_2.pkl')\n",
    "data_phone3=joblib.load('PART_3.pkl')\n",
    "data_phone4=joblib.load('PART_4.pkl')\n",
    "data_phone=data_phone1.append(data_phone2).append(data_phone3).append(data_phone4)"
   ]
  },
  {
   "cell_type": "code",
   "execution_count": 128,
   "metadata": {},
   "outputs": [],
   "source": [
    "data_tar=joblib.load('connect_info_1.pkl')"
   ]
  },
  {
   "cell_type": "code",
   "execution_count": 129,
   "metadata": {},
   "outputs": [],
   "source": [
    "data_phone_1=data_phone.drop_duplicates(subset=['loan_id','phone'],keep='first')"
   ]
  },
  {
   "cell_type": "code",
   "execution_count": 130,
   "metadata": {
    "scrolled": true
   },
   "outputs": [
    {
     "name": "stderr",
     "output_type": "stream",
     "text": [
      "/usr/local/lib/python3.6/site-packages/ipykernel_launcher.py:1: SettingWithCopyWarning: \n",
      "A value is trying to be set on a copy of a slice from a DataFrame.\n",
      "Try using .loc[row_indexer,col_indexer] = value instead\n",
      "\n",
      "See the caveats in the documentation: http://pandas.pydata.org/pandas-docs/stable/user_guide/indexing.html#returning-a-view-versus-a-copy\n",
      "  \"\"\"Entry point for launching an IPython kernel.\n"
     ]
    }
   ],
   "source": [
    "data_phone_1['tar']=1-data_phone_1['tar']"
   ]
  },
  {
   "cell_type": "code",
   "execution_count": 131,
   "metadata": {},
   "outputs": [],
   "source": [
    "data_tar=data_tar[data_tar['request_date']<='2021-04-08']"
   ]
  },
  {
   "cell_type": "code",
   "execution_count": 132,
   "metadata": {},
   "outputs": [],
   "source": [
    "data_phone_1=data_phone_1[data_phone_1['loan_id'].isin(data_tar.index)]"
   ]
  },
  {
   "cell_type": "code",
   "execution_count": 133,
   "metadata": {},
   "outputs": [],
   "source": [
    "vv=data_phone_1[['phone','tar']].groupby('phone').agg(['count','sum','mean'])\n",
    "\n",
    "add=vv.sort_values(by=('tar', 'mean'),ascending=False)"
   ]
  },
  {
   "cell_type": "code",
   "execution_count": 135,
   "metadata": {},
   "outputs": [],
   "source": [
    "ttt=add[(add[('tar', 'count')]>30) & (add[('tar', 'mean')]>0.75)]"
   ]
  },
  {
   "cell_type": "code",
   "execution_count": null,
   "metadata": {},
   "outputs": [],
   "source": []
  },
  {
   "cell_type": "code",
   "execution_count": null,
   "metadata": {},
   "outputs": [],
   "source": []
  },
  {
   "cell_type": "code",
   "execution_count": 136,
   "metadata": {},
   "outputs": [],
   "source": [
    "data_z1=data[data['loan_order_status']==5]"
   ]
  },
  {
   "cell_type": "code",
   "execution_count": null,
   "metadata": {},
   "outputs": [],
   "source": []
  },
  {
   "cell_type": "code",
   "execution_count": null,
   "metadata": {},
   "outputs": [],
   "source": []
  },
  {
   "cell_type": "code",
   "execution_count": 149,
   "metadata": {},
   "outputs": [
    {
     "data": {
      "text/plain": [
       "['data_loan_id.pkl']"
      ]
     },
     "execution_count": 149,
     "metadata": {},
     "output_type": "execute_result"
    }
   ],
   "source": [
    "joblib.dump(mdf,'data_loan_id.pkl')"
   ]
  },
  {
   "cell_type": "code",
   "execution_count": 141,
   "metadata": {},
   "outputs": [
    {
     "data": {
      "text/plain": [
       "0.7875457875457875"
      ]
     },
     "execution_count": 141,
     "metadata": {},
     "output_type": "execute_result"
    }
   ],
   "source": [
    "1-data_z1[data_z1['loan_id'].isin(data_phone_m[data_phone_m['phone'].isin(ttt.index)]['loan_id'].unique())]['repay_order_status'].mean()"
   ]
  },
  {
   "cell_type": "code",
   "execution_count": 148,
   "metadata": {},
   "outputs": [],
   "source": [
    "mdf=data[data['loan_id'].isin(data_phone_m[data_phone_m['phone'].isin(ttt.index)]['loan_id'].unique())].drop('connect_json',axis=1)"
   ]
  },
  {
   "cell_type": "code",
   "execution_count": null,
   "metadata": {},
   "outputs": [],
   "source": []
  },
  {
   "cell_type": "code",
   "execution_count": null,
   "metadata": {},
   "outputs": [],
   "source": []
  },
  {
   "cell_type": "code",
   "execution_count": 98,
   "metadata": {
    "scrolled": true
   },
   "outputs": [
    {
     "data": {
      "text/plain": [
       "0.5203045685279188"
      ]
     },
     "execution_count": 98,
     "metadata": {},
     "output_type": "execute_result"
    }
   ],
   "source": [
    "1-data_z2[~data_z2['loan_id'].isin(data_phone_m[data_phone_m['phone'].isin(ttt.index)]['loan_id'].unique())]['repay_order_status'].mean()"
   ]
  },
  {
   "cell_type": "code",
   "execution_count": 99,
   "metadata": {},
   "outputs": [
    {
     "data": {
      "text/plain": [
       "0.5625"
      ]
     },
     "execution_count": 99,
     "metadata": {},
     "output_type": "execute_result"
    }
   ],
   "source": [
    "1-data_z2['repay_order_status'].mean()"
   ]
  },
  {
   "cell_type": "code",
   "execution_count": 93,
   "metadata": {},
   "outputs": [],
   "source": [
    "data_z2=data_z1[318:]"
   ]
  },
  {
   "cell_type": "code",
   "execution_count": 96,
   "metadata": {
    "scrolled": false
   },
   "outputs": [
    {
     "data": {
      "text/plain": [
       "0.8"
      ]
     },
     "execution_count": 96,
     "metadata": {},
     "output_type": "execute_result"
    }
   ],
   "source": [
    "1-data_z2[data_z2['loan_id'].isin(data_phone_m[data_phone_m['phone'].isin(ttt.index)]['loan_id'].unique())]['repay_order_status'].mean()"
   ]
  },
  {
   "cell_type": "code",
   "execution_count": 35,
   "metadata": {},
   "outputs": [
    {
     "data": {
      "text/plain": [
       "2.53584229390681"
      ]
     },
     "execution_count": 35,
     "metadata": {},
     "output_type": "execute_result"
    }
   ],
   "source": [
    "data[data['loan_id'].isin(data_phone_m[data_phone_m['phone'].isin(ttt.index)]['loan_id'].unique())]['repay_order_status'].mean()"
   ]
  },
  {
   "cell_type": "code",
   "execution_count": 155,
   "metadata": {},
   "outputs": [
    {
     "data": {
      "text/plain": [
       "0.514018691588785"
      ]
     },
     "execution_count": 155,
     "metadata": {},
     "output_type": "execute_result"
    }
   ],
   "source": [
    "1-data['repay_order_status'].mean()"
   ]
  },
  {
   "cell_type": "code",
   "execution_count": 85,
   "metadata": {},
   "outputs": [
    {
     "data": {
      "text/plain": [
       "0.596045197740113"
      ]
     },
     "execution_count": 85,
     "metadata": {},
     "output_type": "execute_result"
    }
   ],
   "source": [
    "1-data[data['loan_order_status']==5]['repay_order_status'].mean()"
   ]
  },
  {
   "cell_type": "code",
   "execution_count": 104,
   "metadata": {
    "scrolled": false
   },
   "outputs": [],
   "source": [
    "df1=data[data['loan_order_status']==5]"
   ]
  },
  {
   "cell_type": "code",
   "execution_count": 108,
   "metadata": {
    "scrolled": false
   },
   "outputs": [
    {
     "data": {
      "text/plain": [
       "0.5877192982456141"
      ]
     },
     "execution_count": 108,
     "metadata": {},
     "output_type": "execute_result"
    }
   ],
   "source": [
    "1-df1[~df1['loan_id'].isin(data2.index)]['repay_order_status'].mean()"
   ]
  },
  {
   "cell_type": "code",
   "execution_count": 145,
   "metadata": {},
   "outputs": [],
   "source": [
    "data2=data[data['loan_id'].isin(data_phone[data_phone['phone'].isin(ttt.index)]['loan_id'].unique())]"
   ]
  },
  {
   "cell_type": "code",
   "execution_count": null,
   "metadata": {},
   "outputs": [],
   "source": []
  },
  {
   "cell_type": "code",
   "execution_count": 138,
   "metadata": {},
   "outputs": [
    {
     "data": {
      "text/plain": [
       "0.6721311475409837"
      ]
     },
     "execution_count": 138,
     "metadata": {},
     "output_type": "execute_result"
    }
   ],
   "source": [
    "1-data2[data2['loan_order_status']==5]['repay_order_status'].mean()"
   ]
  },
  {
   "cell_type": "code",
   "execution_count": 146,
   "metadata": {},
   "outputs": [
    {
     "data": {
      "text/plain": [
       "0.7391304347826086"
      ]
     },
     "execution_count": 146,
     "metadata": {},
     "output_type": "execute_result"
    }
   ],
   "source": [
    "1-data2[data2['loan_order_status']==5]['repay_order_status'].mean()"
   ]
  },
  {
   "cell_type": "code",
   "execution_count": 127,
   "metadata": {},
   "outputs": [
    {
     "data": {
      "text/plain": [
       "0.514018691588785"
      ]
     },
     "execution_count": 127,
     "metadata": {},
     "output_type": "execute_result"
    }
   ],
   "source": [
    "1-data[data['loan_order_status']==5]['repay_order_status'].mean()"
   ]
  },
  {
   "cell_type": "code",
   "execution_count": 33,
   "metadata": {},
   "outputs": [
    {
     "data": {
      "text/plain": [
       "2150"
      ]
     },
     "execution_count": 33,
     "metadata": {},
     "output_type": "execute_result"
    }
   ],
   "source": [
    "len(set(ttt.sort_values(by=[('tar', 'count'),('tar',  'mean')],ascending=False).index))"
   ]
  },
  {
   "cell_type": "code",
   "execution_count": 25,
   "metadata": {},
   "outputs": [],
   "source": [
    "b_data=pd.read_csv('black_list_phone.csv',index_col=0)"
   ]
  },
  {
   "cell_type": "code",
   "execution_count": 30,
   "metadata": {},
   "outputs": [
    {
     "data": {
      "text/plain": [
       "2157"
      ]
     },
     "execution_count": 30,
     "metadata": {},
     "output_type": "execute_result"
    }
   ],
   "source": [
    "len(set(b_data.index[2:]))"
   ]
  },
  {
   "cell_type": "code",
   "execution_count": 34,
   "metadata": {},
   "outputs": [
    {
     "data": {
      "text/plain": [
       "2150"
      ]
     },
     "execution_count": 34,
     "metadata": {},
     "output_type": "execute_result"
    }
   ],
   "source": [
    "len(set(ttt.sort_values(by=[('tar', 'count'),('tar',  'mean')],ascending=False).index) & set(ttt.sort_values(by=[('tar', 'count'),('tar',  'mean')],ascending=False).index))"
   ]
  },
  {
   "cell_type": "code",
   "execution_count": 34,
   "metadata": {},
   "outputs": [
    {
     "data": {
      "text/plain": [
       "['ip.pkl']"
      ]
     },
     "execution_count": 34,
     "metadata": {},
     "output_type": "execute_result"
    }
   ],
   "source": [
    "joblib.dump(data2,'ip.pkl')"
   ]
  },
  {
   "cell_type": "code",
   "execution_count": null,
   "metadata": {},
   "outputs": [],
   "source": []
  }
 ],
 "metadata": {
  "kernelspec": {
   "display_name": "Python 3",
   "language": "python",
   "name": "python3"
  },
  "language_info": {
   "codemirror_mode": {
    "name": "ipython",
    "version": 3
   },
   "file_extension": ".py",
   "mimetype": "text/x-python",
   "name": "python",
   "nbconvert_exporter": "python",
   "pygments_lexer": "ipython3",
   "version": "3.8.8"
  },
  "varInspector": {
   "cols": {
    "lenName": 16,
    "lenType": 16,
    "lenVar": 40
   },
   "kernels_config": {
    "python": {
     "delete_cmd_postfix": "",
     "delete_cmd_prefix": "del ",
     "library": "var_list.py",
     "varRefreshCmd": "print(var_dic_list())"
    },
    "r": {
     "delete_cmd_postfix": ") ",
     "delete_cmd_prefix": "rm(",
     "library": "var_list.r",
     "varRefreshCmd": "cat(var_dic_list()) "
    }
   },
   "types_to_exclude": [
    "module",
    "function",
    "builtin_function_or_method",
    "instance",
    "_Feature"
   ],
   "window_display": false
  }
 },
 "nbformat": 4,
 "nbformat_minor": 4
}
