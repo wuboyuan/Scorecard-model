{
 "cells": [
  {
   "cell_type": "code",
   "execution_count": 2,
   "metadata": {},
   "outputs": [],
   "source": [
    "from flask import Flask, jsonify\n",
    "import warnings\n",
    "warnings.filterwarnings(\"ignore\")\n",
    "app = Flask(__name__)"
   ]
  },
  {
   "cell_type": "code",
   "execution_count": 6,
   "metadata": {},
   "outputs": [],
   "source": [
    "import pymysql"
   ]
  },
  {
   "cell_type": "code",
   "execution_count": 7,
   "metadata": {},
   "outputs": [],
   "source": [
    "import time\n",
    "import datetime\n",
    "import pymysql\n",
    "import pandas as pd\n",
    "import numpy as np\n",
    "import requests\n",
    "from sklearn.externals import joblib\n",
    "import math"
   ]
  },
  {
   "cell_type": "code",
   "execution_count": 4,
   "metadata": {},
   "outputs": [],
   "source": [
    "def company_job():\n",
    "    conn = pymysql.connect(\n",
    "        host=\"\n",
    "         user=',\n",
    "    password='',\n",
    "        db=\"api_loansuper\",\n",
    "        charset=\"utf8\")\n",
    "\n",
    "    sql = f\"\"\"\n",
    "SELECT\n",
    "DISTINCT a.loan_id,b.company_job,a.loan_order_status,a.repay_order_status\n",
    "from\n",
    "(SELECT\n",
    "*\n",
    "from\n",
    "t_loan_order WHERE allplatfrom_user_type=1 ) as a LEFT JOIN\n",
    "t_app_user_info as b on  a.app_user_id = b.app_user_id\n",
    "\n",
    "WHERE\n",
    "a.request_date<'2021-06-15'\n",
    "           \"\"\"\n",
    "    df = pd.read_sql(sql, conn)\n",
    "    conn.close()\n",
    "    return df"
   ]
  },
  {
   "cell_type": "code",
   "execution_count": 8,
   "metadata": {},
   "outputs": [],
   "source": [
    "data=company_job()"
   ]
  },
  {
   "cell_type": "code",
   "execution_count": 11,
   "metadata": {},
   "outputs": [],
   "source": [
    "data=data.drop_duplicates(subset=['loan_id','company_job'],keep='first')"
   ]
  },
  {
   "cell_type": "code",
   "execution_count": 19,
   "metadata": {},
   "outputs": [],
   "source": [
    "data_d=data[['loan_id','company_job']].groupby('company_job').agg(count_1=pd.NamedAgg(column='loan_id', aggfunc='count'))"
   ]
  },
  {
   "cell_type": "code",
   "execution_count": 23,
   "metadata": {},
   "outputs": [],
   "source": [
    "data_d['company_job']=data_d.index"
   ]
  },
  {
   "cell_type": "code",
   "execution_count": 28,
   "metadata": {},
   "outputs": [],
   "source": [
    "data_d['company_job_1']=data_d['company_job'].astype(float)"
   ]
  },
  {
   "cell_type": "code",
   "execution_count": 32,
   "metadata": {},
   "outputs": [],
   "source": [
    "data_d=data_d.sort_values(by='company_job_1')[['count_1','company_job_1']]"
   ]
  },
  {
   "cell_type": "code",
   "execution_count": 35,
   "metadata": {},
   "outputs": [],
   "source": [
    "data_d['c_count_1']=data_d['count_1'].cumsum()"
   ]
  },
  {
   "cell_type": "code",
   "execution_count": 38,
   "metadata": {},
   "outputs": [],
   "source": [
    "data_d[['count_1','c_count_1']].to_csv('company_job.csv')"
   ]
  },
  {
   "cell_type": "code",
   "execution_count": 41,
   "metadata": {},
   "outputs": [],
   "source": [
    "def company_job2():\n",
    "    conn = pymysql.connect(\n",
    "        host=\"\n",
    "         user='wuboyuan',\n",
    "    password='',\n",
    "        db=\"api_loansuper\",\n",
    "        charset=\"utf8\")\n",
    "\n",
    "    sql = f\"\"\"\n",
    "\n",
    "\n",
    "SELECT\n",
    "*\n",
    "from\n",
    "t_language_show_column_means \n",
    "\n",
    "           \"\"\"\n",
    "    df = pd.read_sql(sql, conn)\n",
    "    conn.close()\n",
    "    return df"
   ]
  },
  {
   "cell_type": "code",
   "execution_count": 42,
   "metadata": {},
   "outputs": [],
   "source": [
    "data_o=company_job2()"
   ]
  },
  {
   "cell_type": "code",
   "execution_count": 50,
   "metadata": {},
   "outputs": [],
   "source": [
    "data_o[data_o['connet_column']=='workType'].to_csv('job_content.csv',encoding=\"utf_8_sig\")"
   ]
  },
  {
   "cell_type": "code",
   "execution_count": null,
   "metadata": {},
   "outputs": [],
   "source": [
    "data_o"
   ]
  }
 ],
 "metadata": {
  "kernelspec": {
   "display_name": "Python 3",
   "language": "python",
   "name": "python3"
  },
  "language_info": {
   "codemirror_mode": {
    "name": "ipython",
    "version": 3
   },
   "file_extension": ".py",
   "mimetype": "text/x-python",
   "name": "python",
   "nbconvert_exporter": "python",
   "pygments_lexer": "ipython3",
   "version": "3.8.8"
  },
  "varInspector": {
   "cols": {
    "lenName": 16,
    "lenType": 16,
    "lenVar": 40
   },
   "kernels_config": {
    "python": {
     "delete_cmd_postfix": "",
     "delete_cmd_prefix": "del ",
     "library": "var_list.py",
     "varRefreshCmd": "print(var_dic_list())"
    },
    "r": {
     "delete_cmd_postfix": ") ",
     "delete_cmd_prefix": "rm(",
     "library": "var_list.r",
     "varRefreshCmd": "cat(var_dic_list()) "
    }
   },
   "types_to_exclude": [
    "module",
    "function",
    "builtin_function_or_method",
    "instance",
    "_Feature"
   ],
   "window_display": false
  }
 },
 "nbformat": 4,
 "nbformat_minor": 4
}
