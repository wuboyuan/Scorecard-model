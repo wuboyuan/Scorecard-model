{
 "cells": [
  {
   "cell_type": "code",
   "execution_count": 2,
   "metadata": {},
   "outputs": [],
   "source": [
    "from dateutil.parser import *\n",
    "import pymongo\n",
    "import time\n",
    "import pandas as pd"
   ]
  },
  {
   "cell_type": "code",
   "execution_count": 3,
   "metadata": {},
   "outputs": [],
   "source": [
    "import joblib"
   ]
  },
  {
   "cell_type": "code",
   "execution_count": 4,
   "metadata": {},
   "outputs": [],
   "source": [
    "data=joblib.load('old_data_0726_x2_2.pkl')"
   ]
  },
  {
   "cell_type": "code",
   "execution_count": 5,
   "metadata": {},
   "outputs": [],
   "source": [
    "data1=data[['age','religion','company_city','repay_order_status']]"
   ]
  },
  {
   "cell_type": "code",
   "execution_count": 6,
   "metadata": {},
   "outputs": [],
   "source": [
    "import toad"
   ]
  },
  {
   "cell_type": "code",
   "execution_count": 7,
   "metadata": {},
   "outputs": [],
   "source": [
    "c = toad.transform.Combiner()"
   ]
  },
  {
   "cell_type": "code",
   "execution_count": null,
   "metadata": {},
   "outputs": [],
   "source": []
  },
  {
   "cell_type": "code",
   "execution_count": null,
   "metadata": {},
   "outputs": [],
   "source": []
  },
  {
   "cell_type": "code",
   "execution_count": 8,
   "metadata": {},
   "outputs": [
    {
     "data": {
      "text/plain": [
       "<toad.transform.Combiner at 0x7f0516f6ce10>"
      ]
     },
     "execution_count": 8,
     "metadata": {},
     "output_type": "execute_result"
    }
   ],
   "source": [
    "c.fit(data1, y = 'repay_order_status', method = 'chi', min_samples = 0.1,empty_separate = True)"
   ]
  },
  {
   "cell_type": "code",
   "execution_count": 19,
   "metadata": {},
   "outputs": [
    {
     "name": "stdout",
     "output_type": "stream",
     "text": [
      "age: [27, 41]\n"
     ]
    }
   ],
   "source": [
    "print('age:',c.export()['age'])"
   ]
  },
  {
   "cell_type": "code",
   "execution_count": 9,
   "metadata": {},
   "outputs": [],
   "source": [
    "transer = toad.transform.WOETransformer()"
   ]
  },
  {
   "cell_type": "code",
   "execution_count": 10,
   "metadata": {},
   "outputs": [],
   "source": [
    "train_woe = transer.fit_transform(c.transform(data1), data1['repay_order_status'], exclude=['repay_order_status'])"
   ]
  },
  {
   "cell_type": "code",
   "execution_count": 23,
   "metadata": {},
   "outputs": [
    {
     "data": {
      "text/html": [
       "<div>\n",
       "<style scoped>\n",
       "    .dataframe tbody tr th:only-of-type {\n",
       "        vertical-align: middle;\n",
       "    }\n",
       "\n",
       "    .dataframe tbody tr th {\n",
       "        vertical-align: top;\n",
       "    }\n",
       "\n",
       "    .dataframe thead th {\n",
       "        text-align: right;\n",
       "    }\n",
       "</style>\n",
       "<table border=\"1\" class=\"dataframe\">\n",
       "  <thead>\n",
       "    <tr style=\"text-align: right;\">\n",
       "      <th></th>\n",
       "      <th>repay_order_status</th>\n",
       "      <th>age</th>\n",
       "      <th>religion</th>\n",
       "      <th>company_city</th>\n",
       "    </tr>\n",
       "    <tr>\n",
       "      <th>loan_id</th>\n",
       "      <th></th>\n",
       "      <th></th>\n",
       "      <th></th>\n",
       "      <th></th>\n",
       "    </tr>\n",
       "  </thead>\n",
       "  <tbody>\n",
       "    <tr>\n",
       "      <th>975547</th>\n",
       "      <td>1</td>\n",
       "      <td>-0.030336</td>\n",
       "      <td>-0.066539</td>\n",
       "      <td>1.414134</td>\n",
       "    </tr>\n",
       "    <tr>\n",
       "      <th>975550</th>\n",
       "      <td>0</td>\n",
       "      <td>-0.360432</td>\n",
       "      <td>-0.066539</td>\n",
       "      <td>0.041888</td>\n",
       "    </tr>\n",
       "    <tr>\n",
       "      <th>975554</th>\n",
       "      <td>1</td>\n",
       "      <td>-0.030336</td>\n",
       "      <td>-0.066539</td>\n",
       "      <td>1.414134</td>\n",
       "    </tr>\n",
       "    <tr>\n",
       "      <th>975556</th>\n",
       "      <td>0</td>\n",
       "      <td>-0.030336</td>\n",
       "      <td>0.605633</td>\n",
       "      <td>-0.785220</td>\n",
       "    </tr>\n",
       "    <tr>\n",
       "      <th>975557</th>\n",
       "      <td>1</td>\n",
       "      <td>-0.030336</td>\n",
       "      <td>-0.066539</td>\n",
       "      <td>1.414134</td>\n",
       "    </tr>\n",
       "    <tr>\n",
       "      <th>...</th>\n",
       "      <td>...</td>\n",
       "      <td>...</td>\n",
       "      <td>...</td>\n",
       "      <td>...</td>\n",
       "    </tr>\n",
       "    <tr>\n",
       "      <th>979660</th>\n",
       "      <td>0</td>\n",
       "      <td>-0.360432</td>\n",
       "      <td>-0.066539</td>\n",
       "      <td>1.414134</td>\n",
       "    </tr>\n",
       "    <tr>\n",
       "      <th>979661</th>\n",
       "      <td>1</td>\n",
       "      <td>-0.360432</td>\n",
       "      <td>-0.066539</td>\n",
       "      <td>0.041888</td>\n",
       "    </tr>\n",
       "    <tr>\n",
       "      <th>979662</th>\n",
       "      <td>1</td>\n",
       "      <td>-0.030336</td>\n",
       "      <td>-0.066539</td>\n",
       "      <td>0.709442</td>\n",
       "    </tr>\n",
       "    <tr>\n",
       "      <th>979669</th>\n",
       "      <td>1</td>\n",
       "      <td>-0.030336</td>\n",
       "      <td>-0.066539</td>\n",
       "      <td>0.041888</td>\n",
       "    </tr>\n",
       "    <tr>\n",
       "      <th>979679</th>\n",
       "      <td>1</td>\n",
       "      <td>0.558829</td>\n",
       "      <td>-0.066539</td>\n",
       "      <td>1.414134</td>\n",
       "    </tr>\n",
       "  </tbody>\n",
       "</table>\n",
       "<p>997 rows × 4 columns</p>\n",
       "</div>"
      ],
      "text/plain": [
       "         repay_order_status       age  religion  company_city\n",
       "loan_id                                                      \n",
       "975547                    1 -0.030336 -0.066539      1.414134\n",
       "975550                    0 -0.360432 -0.066539      0.041888\n",
       "975554                    1 -0.030336 -0.066539      1.414134\n",
       "975556                    0 -0.030336  0.605633     -0.785220\n",
       "975557                    1 -0.030336 -0.066539      1.414134\n",
       "...                     ...       ...       ...           ...\n",
       "979660                    0 -0.360432 -0.066539      1.414134\n",
       "979661                    1 -0.360432 -0.066539      0.041888\n",
       "979662                    1 -0.030336 -0.066539      0.709442\n",
       "979669                    1 -0.030336 -0.066539      0.041888\n",
       "979679                    1  0.558829 -0.066539      1.414134\n",
       "\n",
       "[997 rows x 4 columns]"
      ]
     },
     "execution_count": 23,
     "metadata": {},
     "output_type": "execute_result"
    }
   ],
   "source": [
    "train_woe"
   ]
  },
  {
   "cell_type": "code",
   "execution_count": 11,
   "metadata": {},
   "outputs": [],
   "source": [
    "OOT_woe = transer.transform(c.transform(data1))"
   ]
  },
  {
   "cell_type": "code",
   "execution_count": 26,
   "metadata": {},
   "outputs": [
    {
     "data": {
      "text/html": [
       "<div>\n",
       "<style scoped>\n",
       "    .dataframe tbody tr th:only-of-type {\n",
       "        vertical-align: middle;\n",
       "    }\n",
       "\n",
       "    .dataframe tbody tr th {\n",
       "        vertical-align: top;\n",
       "    }\n",
       "\n",
       "    .dataframe thead th {\n",
       "        text-align: right;\n",
       "    }\n",
       "</style>\n",
       "<table border=\"1\" class=\"dataframe\">\n",
       "  <thead>\n",
       "    <tr style=\"text-align: right;\">\n",
       "      <th></th>\n",
       "      <th>repay_order_status</th>\n",
       "      <th>age</th>\n",
       "      <th>religion</th>\n",
       "      <th>company_city</th>\n",
       "    </tr>\n",
       "    <tr>\n",
       "      <th>loan_id</th>\n",
       "      <th></th>\n",
       "      <th></th>\n",
       "      <th></th>\n",
       "      <th></th>\n",
       "    </tr>\n",
       "  </thead>\n",
       "  <tbody>\n",
       "    <tr>\n",
       "      <th>975547</th>\n",
       "      <td>1</td>\n",
       "      <td>-0.030336</td>\n",
       "      <td>-0.066539</td>\n",
       "      <td>1.414134</td>\n",
       "    </tr>\n",
       "    <tr>\n",
       "      <th>975550</th>\n",
       "      <td>0</td>\n",
       "      <td>-0.360432</td>\n",
       "      <td>-0.066539</td>\n",
       "      <td>0.041888</td>\n",
       "    </tr>\n",
       "    <tr>\n",
       "      <th>975554</th>\n",
       "      <td>1</td>\n",
       "      <td>-0.030336</td>\n",
       "      <td>-0.066539</td>\n",
       "      <td>1.414134</td>\n",
       "    </tr>\n",
       "    <tr>\n",
       "      <th>975556</th>\n",
       "      <td>0</td>\n",
       "      <td>-0.030336</td>\n",
       "      <td>0.605633</td>\n",
       "      <td>-0.785220</td>\n",
       "    </tr>\n",
       "    <tr>\n",
       "      <th>975557</th>\n",
       "      <td>1</td>\n",
       "      <td>-0.030336</td>\n",
       "      <td>-0.066539</td>\n",
       "      <td>1.414134</td>\n",
       "    </tr>\n",
       "    <tr>\n",
       "      <th>...</th>\n",
       "      <td>...</td>\n",
       "      <td>...</td>\n",
       "      <td>...</td>\n",
       "      <td>...</td>\n",
       "    </tr>\n",
       "    <tr>\n",
       "      <th>979660</th>\n",
       "      <td>0</td>\n",
       "      <td>-0.360432</td>\n",
       "      <td>-0.066539</td>\n",
       "      <td>1.414134</td>\n",
       "    </tr>\n",
       "    <tr>\n",
       "      <th>979661</th>\n",
       "      <td>1</td>\n",
       "      <td>-0.360432</td>\n",
       "      <td>-0.066539</td>\n",
       "      <td>0.041888</td>\n",
       "    </tr>\n",
       "    <tr>\n",
       "      <th>979662</th>\n",
       "      <td>1</td>\n",
       "      <td>-0.030336</td>\n",
       "      <td>-0.066539</td>\n",
       "      <td>0.709442</td>\n",
       "    </tr>\n",
       "    <tr>\n",
       "      <th>979669</th>\n",
       "      <td>1</td>\n",
       "      <td>-0.030336</td>\n",
       "      <td>-0.066539</td>\n",
       "      <td>0.041888</td>\n",
       "    </tr>\n",
       "    <tr>\n",
       "      <th>979679</th>\n",
       "      <td>1</td>\n",
       "      <td>0.558829</td>\n",
       "      <td>-0.066539</td>\n",
       "      <td>1.414134</td>\n",
       "    </tr>\n",
       "  </tbody>\n",
       "</table>\n",
       "<p>997 rows × 4 columns</p>\n",
       "</div>"
      ],
      "text/plain": [
       "         repay_order_status       age  religion  company_city\n",
       "loan_id                                                      \n",
       "975547                    1 -0.030336 -0.066539      1.414134\n",
       "975550                    0 -0.360432 -0.066539      0.041888\n",
       "975554                    1 -0.030336 -0.066539      1.414134\n",
       "975556                    0 -0.030336  0.605633     -0.785220\n",
       "975557                    1 -0.030336 -0.066539      1.414134\n",
       "...                     ...       ...       ...           ...\n",
       "979660                    0 -0.360432 -0.066539      1.414134\n",
       "979661                    1 -0.360432 -0.066539      0.041888\n",
       "979662                    1 -0.030336 -0.066539      0.709442\n",
       "979669                    1 -0.030336 -0.066539      0.041888\n",
       "979679                    1  0.558829 -0.066539      1.414134\n",
       "\n",
       "[997 rows x 4 columns]"
      ]
     },
     "execution_count": 26,
     "metadata": {},
     "output_type": "execute_result"
    }
   ],
   "source": [
    "OOT_woe"
   ]
  },
  {
   "cell_type": "code",
   "execution_count": 27,
   "metadata": {},
   "outputs": [
    {
     "data": {
      "text/plain": [
       "{0: -0.3604321570395842, 1: -0.030335597679289547, 2: 0.5588285191549531}"
      ]
     },
     "execution_count": 27,
     "metadata": {},
     "output_type": "execute_result"
    }
   ],
   "source": [
    "transer.export()['age']"
   ]
  },
  {
   "cell_type": "code",
   "execution_count": 28,
   "metadata": {},
   "outputs": [
    {
     "data": {
      "text/plain": [
       "[27, 41]"
      ]
     },
     "execution_count": 28,
     "metadata": {},
     "output_type": "execute_result"
    }
   ],
   "source": [
    "c.export()['age']"
   ]
  },
  {
   "cell_type": "code",
   "execution_count": 12,
   "metadata": {},
   "outputs": [],
   "source": [
    "from sklearn.model_selection import train_test_split\n",
    "from sklearn.linear_model import LogisticRegression\n",
    "from sklearn.metrics import classification_report\n",
    "from sklearn.metrics import roc_curve, auc\n",
    "from sklearn.preprocessing import scale"
   ]
  },
  {
   "cell_type": "code",
   "execution_count": 13,
   "metadata": {},
   "outputs": [],
   "source": [
    "df=train_woe[['age','religion','company_city','repay_order_status']]"
   ]
  },
  {
   "cell_type": "code",
   "execution_count": 22,
   "metadata": {},
   "outputs": [
    {
     "name": "stdout",
     "output_type": "stream",
     "text": [
      "1    593\n",
      "0    404\n",
      "Name: repay_order_status, dtype: int64\n",
      "-------------------------\n",
      "1    0.594784\n",
      "0    0.405216\n",
      "Name: repay_order_status, dtype: float64\n"
     ]
    }
   ],
   "source": [
    "x=df.iloc[:,0:-1]\n",
    "y=df[\"repay_order_status\"]\n",
    "print(y.value_counts())\n",
    "print(\"-------------------------\")\n",
    "print(y.value_counts(normalize=True))"
   ]
  },
  {
   "cell_type": "code",
   "execution_count": 15,
   "metadata": {},
   "outputs": [],
   "source": [
    "def get_result_data(x,y):\n",
    "    x_=scale(x,with_mean=True,with_std=True)\n",
    "    x_train,x_test,y_train,y_test=train_test_split(x,y,test_size=0.4,random_state=0)\n",
    "    model=LogisticRegression()\n",
    "    clf=model.fit(x_train,y_train)\n",
    "    print(\"LR模型测试成绩:{:.2f}\".format(clf.score(x_test,y_test)))\n",
    "    y_pred=clf.predict(x_test)\n",
    "    target_names = ['class 0', 'class 1']\n",
    "    print(classification_report(y_test, y_pred, target_names=target_names))\n",
    "    y_pred1=clf.decision_function(x_test)\n",
    "    fpr,tpr,threshold=roc_curve(y_test,y_pred1)\n",
    "    rocauc=auc(fpr,tpr)#计算AUC\n",
    "    print(\"ROC分数:{:.2f}\".format(rocauc))"
   ]
  },
  {
   "cell_type": "code",
   "execution_count": 16,
   "metadata": {
    "scrolled": true
   },
   "outputs": [],
   "source": [
    "from collections import Counter\n",
    "from imblearn.over_sampling import SMOTE"
   ]
  },
  {
   "cell_type": "code",
   "execution_count": 33,
   "metadata": {},
   "outputs": [
    {
     "name": "stdout",
     "output_type": "stream",
     "text": [
      "Original dataset shape Counter({1: 593, 0: 404})\n",
      "Resampled dataset shape Counter({1: 593, 0: 593})\n"
     ]
    }
   ],
   "source": [
    "print('Original dataset shape {}'.format(Counter(y)))\n",
    "oversample = SMOTE()\n",
    "X_res, y_res = oversample .fit_resample(x, y)\n",
    "print('Resampled dataset shape {}'.format(Counter(y_res)))"
   ]
  },
  {
   "cell_type": "code",
   "execution_count": 18,
   "metadata": {},
   "outputs": [
    {
     "name": "stdout",
     "output_type": "stream",
     "text": [
      "LR模型测试成绩:0.67\n",
      "              precision    recall  f1-score   support\n",
      "\n",
      "     class 0       0.76      0.50      0.60       238\n",
      "     class 1       0.62      0.84      0.72       237\n",
      "\n",
      "    accuracy                           0.67       475\n",
      "   macro avg       0.69      0.67      0.66       475\n",
      "weighted avg       0.69      0.67      0.66       475\n",
      "\n",
      "ROC分数:0.73\n"
     ]
    }
   ],
   "source": [
    "get_result_data(X_res, y_res)"
   ]
  },
  {
   "cell_type": "code",
   "execution_count": 28,
   "metadata": {},
   "outputs": [],
   "source": [
    "x_=scale(x,with_mean=True,with_std=True)\n",
    "x_train,x_test,y_train,y_test=train_test_split(x,y,test_size=0.4,random_state=0)"
   ]
  },
  {
   "cell_type": "code",
   "execution_count": 29,
   "metadata": {},
   "outputs": [
    {
     "name": "stdout",
     "output_type": "stream",
     "text": [
      "LR模型测试成绩:0.70\n"
     ]
    }
   ],
   "source": [
    "model=LogisticRegression(class_weight=\"balanced\")\n",
    "clf=model.fit(x_train,y_train)\n",
    "print(\"LR模型测试成绩:{:.2f}\".format(clf.score(x_test,y_test)))\n",
    "y_pred=clf.predict(x_test)"
   ]
  },
  {
   "cell_type": "code",
   "execution_count": 30,
   "metadata": {},
   "outputs": [
    {
     "name": "stdout",
     "output_type": "stream",
     "text": [
      "              precision    recall  f1-score   support\n",
      "\n",
      "     class 0       0.62      0.71      0.66       167\n",
      "     class 1       0.77      0.69      0.73       232\n",
      "\n",
      "    accuracy                           0.70       399\n",
      "   macro avg       0.70      0.70      0.70       399\n",
      "weighted avg       0.71      0.70      0.70       399\n",
      "\n",
      "ROC分数:0.77\n"
     ]
    }
   ],
   "source": [
    "target_names = ['class 0', 'class 1']\n",
    "print(classification_report(y_test, y_pred, target_names=target_names))\n",
    "\n",
    "y_pred1=clf.decision_function(x_test)\n",
    "fpr,tpr,threshold=roc_curve(y_test,y_pred1)\n",
    "rocauc=auc(fpr,tpr)#计算AUC\n",
    "print(\"ROC分数:{:.2f}\".format(rocauc))"
   ]
  },
  {
   "cell_type": "code",
   "execution_count": null,
   "metadata": {},
   "outputs": [],
   "source": []
  }
 ],
 "metadata": {
  "kernelspec": {
   "display_name": "Python 3",
   "language": "python",
   "name": "python3"
  },
  "language_info": {
   "codemirror_mode": {
    "name": "ipython",
    "version": 3
   },
   "file_extension": ".py",
   "mimetype": "text/x-python",
   "name": "python",
   "nbconvert_exporter": "python",
   "pygments_lexer": "ipython3",
   "version": "3.6.8"
  },
  "varInspector": {
   "cols": {
    "lenName": 16,
    "lenType": 16,
    "lenVar": 40
   },
   "kernels_config": {
    "python": {
     "delete_cmd_postfix": "",
     "delete_cmd_prefix": "del ",
     "library": "var_list.py",
     "varRefreshCmd": "print(var_dic_list())"
    },
    "r": {
     "delete_cmd_postfix": ") ",
     "delete_cmd_prefix": "rm(",
     "library": "var_list.r",
     "varRefreshCmd": "cat(var_dic_list()) "
    }
   },
   "types_to_exclude": [
    "module",
    "function",
    "builtin_function_or_method",
    "instance",
    "_Feature"
   ],
   "window_display": false
  }
 },
 "nbformat": 4,
 "nbformat_minor": 4
}
